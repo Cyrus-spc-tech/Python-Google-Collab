{
 "cells": [
  {
   "cell_type": "code",
   "execution_count": 1,
   "id": "96c23c99",
   "metadata": {},
   "outputs": [
    {
     "name": "stdout",
     "output_type": "stream",
     "text": [
      "Defaulting to user installation because normal site-packages is not writeable\n",
      "Note: you may need to restart the kernel to use updated packages.\n"
     ]
    },
    {
     "name": "stderr",
     "output_type": "stream",
     "text": [
      "ERROR: Could not find a version that satisfies the requirement turtle (from versions: none)\n",
      "ERROR: No matching distribution found for turtle\n"
     ]
    }
   ],
   "source": [
    "pip install turtle"
   ]
  },
  {
   "cell_type": "code",
   "execution_count": 1,
   "id": "615ac36f",
   "metadata": {},
   "outputs": [],
   "source": [
    "import turtle \n",
    "import random\n",
    "\n",
    "# Set up the screen\n",
    "screen = turtle.Screen()\n",
    "screen.title(\"Random Color Turtle\")\n",
    "screen.bgcolor(\"white\")\n",
    "# Create a turtle\n",
    "t = turtle.Turtle()\n",
    "t.speed(0)  # Fastest drawing speed\n",
    "t.width(2)\n",
    "# Function to generate a random color\n",
    "def random_color():\n",
    "    return (random.random(), random.random(), random.random())\n",
    "\n",
    "# Draw a series of circles with random colors\n",
    "for i in range(36):\n",
    "    t.color(random_color())\n",
    "    t.circle(100)\n",
    "    t.right(10)  # Rotate the turtle to create a pattern\n",
    "\n",
    "# Hide the turtle and finish\n",
    "t.hideturtle()\n",
    "turtle.done()\n",
    "# Keep the window open until closed by the user\n",
    "screen.mainloop()\n"
   ]
  },
  {
   "cell_type": "code",
   "execution_count": 1,
   "id": "81a78671",
   "metadata": {},
   "outputs": [],
   "source": [
    "# turle Basics \n",
    "import turtle\n",
    "# Set up the screen\n",
    "screen = turtle.Screen()\n",
    "\n",
    "screen.title(\"Turtle Basics\")\n",
    "screen.bgcolor(\"lightblue\")\n",
    "# Create a turtle\n",
    "\n",
    "t = turtle.Turtle()\n",
    "t.shape(\"turtle\")\n",
    "t.color(\"green\")\n",
    "t.speed(1)  # Set the speed of the turtle\n",
    "# Draw a square\n",
    "\n",
    "for _ in range(4):\n",
    "    t.forward(100)  # Move forward by 100 units\n",
    "    t.right(45)     # Turn right by 90 degrees\n",
    "\n",
    "# Draw a triangle\n",
    "t.color(\"blue\") \n",
    "for _ in range(3):\n",
    "    t.forward(100)\n",
    "    t.left(120)  # Turn left by 120 degrees\n",
    "\n",
    "# Screen \n",
    "turtle.done()  # Finish the drawing and keep the window open\n"
   ]
  },
  {
   "cell_type": "code",
   "execution_count": 1,
   "id": "0c6fe99e",
   "metadata": {},
   "outputs": [],
   "source": [
    "import turtle\n",
    "\n",
    "# Set up the screen\n",
    "screen = turtle.Screen()\n",
    "t= turtle.Turtle()\n",
    "screen.title(\"Turtle Drawing\")\n",
    "t.speed(1)  # Set the speed of the turtle\n",
    "\n",
    "# lines  and rotation \n",
    "t.color(\"red\")\n",
    "t.forward(100)  # Move forward by 100 units\n",
    "t.right(90)     # Turn right by 90 degrees\n",
    "t.forward(100)  # Move forward by 100 units\n",
    "t.color(\"blue\")\n",
    "t.right(40)\n",
    "t.forward(100)  # Move forward by 100 units\n",
    "t.right(90)     # Turn right by 90 degrees\n",
    "t.backward(50)\n",
    "t.forward(100)  # Move backward by 50 units\n",
    "\n",
    "# output \n",
    "t.hideturtle()  # Hide the turtle after drawing\n",
    "turtle.done()  # Finish the drawing and keep the window open"
   ]
  },
  {
   "cell_type": "code",
   "execution_count": null,
   "id": "8705ae61",
   "metadata": {},
   "outputs": [],
   "source": []
  }
 ],
 "metadata": {
  "kernelspec": {
   "display_name": "Python 3",
   "language": "python",
   "name": "python3"
  },
  "language_info": {
   "codemirror_mode": {
    "name": "ipython",
    "version": 3
   },
   "file_extension": ".py",
   "mimetype": "text/x-python",
   "name": "python",
   "nbconvert_exporter": "python",
   "pygments_lexer": "ipython3",
   "version": "3.12.6"
  }
 },
 "nbformat": 4,
 "nbformat_minor": 5
}
