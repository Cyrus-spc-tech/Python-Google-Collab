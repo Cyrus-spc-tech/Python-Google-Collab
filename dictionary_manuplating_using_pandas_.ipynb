{
  "nbformat": 4,
  "nbformat_minor": 0,
  "metadata": {
    "colab": {
      "provenance": [],
      "authorship_tag": "ABX9TyP9WHExAxHEDt5y8PQKwBDI",
      "include_colab_link": true
    },
    "kernelspec": {
      "name": "python3",
      "display_name": "Python 3"
    },
    "language_info": {
      "name": "python"
    }
  },
  "cells": [
    {
      "cell_type": "markdown",
      "metadata": {
        "id": "view-in-github",
        "colab_type": "text"
      },
      "source": [
        "<a href=\"https://colab.research.google.com/github/Cyrus-spc-tech/Python-Google-Collab/blob/main/dictionary_manuplating_using_pandas_.ipynb\" target=\"_parent\"><img src=\"https://colab.research.google.com/assets/colab-badge.svg\" alt=\"Open In Colab\"/></a>"
      ]
    },
    {
      "cell_type": "code",
      "execution_count": null,
      "metadata": {
        "colab": {
          "base_uri": "https://localhost:8080/"
        },
        "id": "5Fu7s62z8gRG",
        "outputId": "eeea2452-968a-4522-9c64-cb6e0b49afa4"
      },
      "outputs": [
        {
          "output_type": "stream",
          "name": "stdout",
          "text": [
            "This is df1:\n",
            "    A   B   C   D\n",
            "0  85  60  90  95\n",
            "1  73  80  60  87\n",
            "2  98  58  74  92\n",
            "\n",
            "\n",
            "This is df2:\n",
            "    A   B   C   D\n",
            "0  85  60  90  95\n",
            "1  73  80  60  87\n",
            "2  98  58  74  92\n",
            "\n",
            "\n",
            "Using '+', This is df1+df2 :\n",
            "This is df3:\n",
            "     A    B    C    D\n",
            "0  170  120  180  190\n",
            "1  146  160  120  174\n",
            "2  196  116  148  184\n",
            "\n",
            "\n",
            "Using 'add()', This is df2+df3 :\n",
            "This is df4:\n",
            "     A    B    C    D\n",
            "0  255  180  270  285\n",
            "1  219  240  180  261\n",
            "2  294  174  222  276\n",
            "\n",
            "\n",
            "Using 'radd()', This is df4+df3:\n",
            "     A    B    C    D\n",
            "0  425  300  450  475\n",
            "1  365  400  300  435\n",
            "2  490  290  370  460\n",
            "using rsub : \n",
            "    A   B   C   D\n",
            "0  85  60  90  95\n",
            "1  73  80  60  87\n",
            "2  98  58  74  92\n",
            "Using 'mul()', This is df2*df3 :\n",
            "       A      B      C      D\n",
            "0  14450   7200  16200  18050\n",
            "1  10658  12800   7200  15138\n",
            "2  19208   6728  10952  16928\n",
            "------------\n",
            "using 'mod()',this is df3%df4 : \n",
            "     A    B    C    D\n",
            "0  170  120  180  190\n",
            "1  146  160  120  174\n",
            "2  196  116  148  184\n"
          ]
        }
      ],
      "source": [
        "\n",
        "import pandas as pd\n",
        "\n",
        "dict1= {'A':[85,73,98], 'B':[60,80,58], 'C':[90,60,74], 'D': [95,87,92] }\n",
        "\n",
        "df1=pd.DataFrame(dict1,index=['0','1','2'])\n",
        "print(\"This is df1:\")\n",
        "print(df1)\n",
        "print('\\n')\n",
        "\n",
        "dict2= {'A':[85,73,98], 'B':[60,80,58], 'C':[90,60,74], 'D': [95,87,92] }\n",
        "\n",
        "df2=pd.DataFrame(dict2,index=['0','1','2'])\n",
        "print(\"This is df2:\")\n",
        "print(df2)\n",
        "print('\\n')\n",
        "\n",
        "df3=df1+df2\n",
        "print(\"Using '+', This is df1+df2 :\")\n",
        "print(\"This is df3:\")\n",
        "print(df3)\n",
        "print('\\n')\n",
        "\n",
        "df4=df2.add(df3)\n",
        "print(\"Using 'add()', This is df2+df3 :\")\n",
        "print(\"This is df4:\")\n",
        "print(df4)\n",
        "print('\\n')\n",
        "\n",
        "df5=df3.radd(df4)\n",
        "print(\"Using 'radd()', This is df4+df3:\")\n",
        "print(df5)\n",
        "\n",
        "df6=df1.rsub(df3)\n",
        "print(\"using rsub : \")\n",
        "print(df6)\n",
        "df7=df2.mul(df3)\n",
        "print(\"Using 'mul()', This is df2*df3 :\")\n",
        "print(df7)\n",
        "print(\"------------\")\n",
        "df8 = df3.mod(df4)\n",
        "print(\"using 'mod()',this is df3%df4 : \")\n",
        "print(df8)\n"
      ]
    },
    {
      "cell_type": "code",
      "source": [
        "import pandas as pd\n",
        "\n",
        "dict= {'A':[85,73,98], 'B':[60,80,58], 'C':[90,60,74], 'D': [95,87,92] }\n",
        "\n",
        "df=pd.DataFrame(dict,index=['0','1','2'])\n",
        "print(df)\n",
        "print(\"\\n\")\n",
        "print(df.describe())"
      ],
      "metadata": {
        "colab": {
          "base_uri": "https://localhost:8080/"
        },
        "id": "5Fo5qo7UDBYd",
        "outputId": "06c5495b-8d92-4f8a-f831-e07d01d28354"
      },
      "execution_count": null,
      "outputs": [
        {
          "output_type": "stream",
          "name": "stdout",
          "text": [
            "    A   B   C   D\n",
            "0  85  60  90  95\n",
            "1  73  80  60  87\n",
            "2  98  58  74  92\n",
            "\n",
            "\n",
            "               A          B          C          D\n",
            "count   3.000000   3.000000   3.000000   3.000000\n",
            "mean   85.333333  66.000000  74.666667  91.333333\n",
            "std    12.503333  12.165525  15.011107   4.041452\n",
            "min    73.000000  58.000000  60.000000  87.000000\n",
            "25%    79.000000  59.000000  67.000000  89.500000\n",
            "50%    85.000000  60.000000  74.000000  92.000000\n",
            "75%    91.500000  70.000000  82.000000  93.500000\n",
            "max    98.000000  80.000000  90.000000  95.000000\n"
          ]
        }
      ]
    },
    {
      "cell_type": "code",
      "source": [
        "import pandas as pd\n",
        "\n",
        "dict= {'A':[85,73,98], 'B':[60,80,58], 'C':[90,60,74], 'D': [95,87,92] }\n",
        "\n",
        "df=pd.DataFrame(dict,index=['0','1','2'])\n",
        "print(df)\n",
        "print(\"\\n\")\n",
        "print(df.info())"
      ],
      "metadata": {
        "colab": {
          "base_uri": "https://localhost:8080/"
        },
        "id": "s5c_CzttDLoj",
        "outputId": "3186c106-14e1-417d-c837-8efda20f932e"
      },
      "execution_count": null,
      "outputs": [
        {
          "output_type": "stream",
          "name": "stdout",
          "text": [
            "    A   B   C   D\n",
            "0  85  60  90  95\n",
            "1  73  80  60  87\n",
            "2  98  58  74  92\n",
            "\n",
            "\n",
            "<class 'pandas.core.frame.DataFrame'>\n",
            "Index: 3 entries, 0 to 2\n",
            "Data columns (total 4 columns):\n",
            " #   Column  Non-Null Count  Dtype\n",
            "---  ------  --------------  -----\n",
            " 0   A       3 non-null      int64\n",
            " 1   B       3 non-null      int64\n",
            " 2   C       3 non-null      int64\n",
            " 3   D       3 non-null      int64\n",
            "dtypes: int64(4)\n",
            "memory usage: 120.0+ bytes\n",
            "None\n"
          ]
        }
      ]
    },
    {
      "cell_type": "code",
      "source": [],
      "metadata": {
        "id": "YI2Qf5LMDQWi"
      },
      "execution_count": null,
      "outputs": []
    }
  ]
}