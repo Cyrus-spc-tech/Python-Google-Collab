{
  "nbformat": 4,
  "nbformat_minor": 0,
  "metadata": {
    "colab": {
      "provenance": [],
      "authorship_tag": "ABX9TyMru17gPM883jStZknVhl32",
      "include_colab_link": true
    },
    "kernelspec": {
      "name": "python3",
      "display_name": "Python 3"
    },
    "language_info": {
      "name": "python"
    }
  },
  "cells": [
    {
      "cell_type": "markdown",
      "metadata": {
        "id": "view-in-github",
        "colab_type": "text"
      },
      "source": [
        "<a href=\"https://colab.research.google.com/github/Cyrus-spc-tech/Python-Google-Collab/blob/main/Colorama.ipynb\" target=\"_parent\"><img src=\"https://colab.research.google.com/assets/colab-badge.svg\" alt=\"Open In Colab\"/></a>"
      ]
    },
    {
      "cell_type": "code",
      "execution_count": null,
      "metadata": {
        "colab": {
          "base_uri": "https://localhost:8080/"
        },
        "id": "sBjiFQum91Rp",
        "outputId": "dc7c1107-18e3-49f1-f9f3-03d67c5197bf"
      },
      "outputs": [
        {
          "output_type": "stream",
          "name": "stdout",
          "text": [
            "Requirement already satisfied: colorama in /usr/local/lib/python3.10/dist-packages (0.4.6)\n"
          ]
        }
      ],
      "source": [
        "\n",
        "!pip install colorama"
      ]
    },
    {
      "cell_type": "code",
      "source": [
        "\n",
        "from colorama import Fore, Back, Style\n",
        "print(Fore.YELLOW + 'some red text')\n",
        "print(Style.RESET_ALL)\n",
        "print(Back.YELLOW + Fore.RED+ 'and with a green background')\n",
        "print(Back.RESET)\n",
        "print(Style.RESET_ALL)\n",
        "print(Style.DIM + 'and in dim text')\n",
        "print(Style.NORMAL+'This is normal text')\n",
        "print(Style.BRIGHT + 'This is bright text')\n",
        "\n",
        "print('back to normal now')\n"
      ],
      "metadata": {
        "colab": {
          "base_uri": "https://localhost:8080/"
        },
        "id": "yHqRygZYSRZo",
        "outputId": "54af25bb-811e-41af-85ea-c1ab8ad52192"
      },
      "execution_count": null,
      "outputs": [
        {
          "output_type": "stream",
          "name": "stdout",
          "text": [
            "\u001b[33msome red text\n",
            "\u001b[0m\n",
            "\u001b[43m\u001b[31mand with a green background\n",
            "\u001b[49m\n",
            "\u001b[0m\n",
            "\u001b[2mand in dim text\n",
            "\u001b[22mThis is normal text\n",
            "\u001b[1mThis is bright text\n",
            "back to normal now\n"
          ]
        }
      ]
    }
  ]
}